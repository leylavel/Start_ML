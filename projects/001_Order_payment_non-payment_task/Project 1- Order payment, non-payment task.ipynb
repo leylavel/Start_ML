{
 "cells": [
  {
   "cell_type": "markdown",
   "id": "b4ee9de9",
   "metadata": {},
   "source": [
    " В каждом поселении есть таверна, в которой разливают вкусный эль и пекут замечательные булочки. Не смотря на все свои светлые качества, гномы достаточно забывчивые и расторопные, поэтому после завершения домашних дел перед ужином в таверне забывают кошелек, а расплачиваются утром на следующий день.\n",
    "\n",
    "Особо нечестные жители общины могут и вовсе не вернуть деньги заведению, поэтому любители гномьего Машинного Обучения предложили следующую идею: **научиться предсказывать, вернет ли забывший дома кошелек гном деньги в течение ближайших дней или, на современном языке, его заказ дефолтнет.** Это позволит повысить финансовую стабильность таверны, не исполняя заказы, которые заранее не будут оплачены.\n",
    "\n",
    "Ваша задача - *построить алгоритм, определяющий вероятность дефолта* того или иного заказа на исторических данных из таверн различных гномьих общин с 2015-02-24 по 2016-09-30."
   ]
  },
  {
   "cell_type": "code",
   "execution_count": 114,
   "id": "12049d96",
   "metadata": {},
   "outputs": [],
   "source": [
    "import pandas as pd\n",
    "from sklearn.model_selection import GridSearchCV\n",
    "from sklearn.ensemble import RandomForestClassifier\n",
    "from sklearn.pipeline import Pipeline\n",
    "import numpy as np\n",
    "\n",
    "from sklearn.model_selection import train_test_split\n",
    "from sklearn.metrics import classification_report\n",
    "from sklearn.metrics import precision_recall_curve\n",
    "import matplotlib.pyplot as plt"
   ]
  },
  {
   "cell_type": "code",
   "execution_count": 115,
   "id": "2f3d571e",
   "metadata": {},
   "outputs": [],
   "source": [
    "df = pd.read_csv('train_inter.csv')"
   ]
  },
  {
   "cell_type": "code",
   "execution_count": 116,
   "id": "84993798",
   "metadata": {},
   "outputs": [],
   "source": [
    "#здесь файл с тестовыми данными без таргетной переменной, для них система будет считать по нашей модели ROC_AUC\n",
    "df_t = pd.read_csv('test_inter.csv')"
   ]
  },
  {
   "cell_type": "code",
   "execution_count": 117,
   "id": "928214f3",
   "metadata": {},
   "outputs": [
    {
     "data": {
      "text/plain": [
       "((3168, 19), (989, 18))"
      ]
     },
     "execution_count": 117,
     "metadata": {},
     "output_type": "execute_result"
    }
   ],
   "source": [
    "df.shape, df_t.shape"
   ]
  },
  {
   "cell_type": "code",
   "execution_count": 118,
   "id": "3fd81d97",
   "metadata": {},
   "outputs": [
    {
     "data": {
      "text/html": [
       "<div>\n",
       "<style scoped>\n",
       "    .dataframe tbody tr th:only-of-type {\n",
       "        vertical-align: middle;\n",
       "    }\n",
       "\n",
       "    .dataframe tbody tr th {\n",
       "        vertical-align: top;\n",
       "    }\n",
       "\n",
       "    .dataframe thead th {\n",
       "        text-align: right;\n",
       "    }\n",
       "</style>\n",
       "<table border=\"1\" class=\"dataframe\">\n",
       "  <thead>\n",
       "    <tr style=\"text-align: right;\">\n",
       "      <th></th>\n",
       "      <th>Deal_id</th>\n",
       "      <th>Deal_date</th>\n",
       "      <th>First_deal_date</th>\n",
       "      <th>Secret_dwarf_info_1</th>\n",
       "      <th>Secret_dwarf_info_2</th>\n",
       "      <th>Secret_dwarf_info_3</th>\n",
       "      <th>First_default_date</th>\n",
       "      <th>Successful_deals_count</th>\n",
       "      <th>Region</th>\n",
       "      <th>Tavern</th>\n",
       "      <th>Hashed_deal_detail_1</th>\n",
       "      <th>Hashed_deal_detail_2</th>\n",
       "      <th>Hashed_deal_detail_3</th>\n",
       "      <th>Hashed_deal_detail_4</th>\n",
       "      <th>Hashed_deal_detail_5</th>\n",
       "      <th>Hashed_deal_detail_6</th>\n",
       "      <th>Age</th>\n",
       "      <th>Gender</th>\n",
       "      <th>Default</th>\n",
       "    </tr>\n",
       "  </thead>\n",
       "  <tbody>\n",
       "    <tr>\n",
       "      <th>0</th>\n",
       "      <td>22487461</td>\n",
       "      <td>2015-11-05</td>\n",
       "      <td>2015-08-29</td>\n",
       "      <td>NaN</td>\n",
       "      <td>NaN</td>\n",
       "      <td>NaN</td>\n",
       "      <td>NaN</td>\n",
       "      <td>0.0</td>\n",
       "      <td>Tavern_district_3</td>\n",
       "      <td>7</td>\n",
       "      <td>2.5</td>\n",
       "      <td>-3</td>\n",
       "      <td>8</td>\n",
       "      <td>2.5</td>\n",
       "      <td>-3</td>\n",
       "      <td>5</td>\n",
       "      <td>36.0</td>\n",
       "      <td>Male</td>\n",
       "      <td>0</td>\n",
       "    </tr>\n",
       "    <tr>\n",
       "      <th>1</th>\n",
       "      <td>62494261</td>\n",
       "      <td>2016-08-26</td>\n",
       "      <td>2015-12-21</td>\n",
       "      <td>3.5</td>\n",
       "      <td>-2.0</td>\n",
       "      <td>5.0</td>\n",
       "      <td>2016-07-30</td>\n",
       "      <td>2.0</td>\n",
       "      <td>Tavern_district_4</td>\n",
       "      <td>7</td>\n",
       "      <td>2.5</td>\n",
       "      <td>-3</td>\n",
       "      <td>14</td>\n",
       "      <td>3.5</td>\n",
       "      <td>-3</td>\n",
       "      <td>5</td>\n",
       "      <td>29.0</td>\n",
       "      <td>Female</td>\n",
       "      <td>1</td>\n",
       "    </tr>\n",
       "  </tbody>\n",
       "</table>\n",
       "</div>"
      ],
      "text/plain": [
       "    Deal_id   Deal_date First_deal_date  Secret_dwarf_info_1  \\\n",
       "0  22487461  2015-11-05      2015-08-29                  NaN   \n",
       "1  62494261  2016-08-26      2015-12-21                  3.5   \n",
       "\n",
       "   Secret_dwarf_info_2  Secret_dwarf_info_3 First_default_date  \\\n",
       "0                  NaN                  NaN                NaN   \n",
       "1                 -2.0                  5.0         2016-07-30   \n",
       "\n",
       "   Successful_deals_count             Region  Tavern  Hashed_deal_detail_1  \\\n",
       "0                     0.0  Tavern_district_3       7                   2.5   \n",
       "1                     2.0  Tavern_district_4       7                   2.5   \n",
       "\n",
       "   Hashed_deal_detail_2  Hashed_deal_detail_3  Hashed_deal_detail_4  \\\n",
       "0                    -3                     8                   2.5   \n",
       "1                    -3                    14                   3.5   \n",
       "\n",
       "   Hashed_deal_detail_5  Hashed_deal_detail_6   Age  Gender  Default  \n",
       "0                    -3                     5  36.0    Male        0  \n",
       "1                    -3                     5  29.0  Female        1  "
      ]
     },
     "execution_count": 118,
     "metadata": {},
     "output_type": "execute_result"
    }
   ],
   "source": [
    "df[:2]"
   ]
  },
  {
   "cell_type": "code",
   "execution_count": 119,
   "id": "eba2b6a3",
   "metadata": {},
   "outputs": [
    {
     "data": {
      "text/plain": [
       "Index(['Deal_id', 'Deal_date', 'First_deal_date', 'Secret_dwarf_info_1',\n",
       "       'Secret_dwarf_info_2', 'Secret_dwarf_info_3', 'First_default_date',\n",
       "       'Successful_deals_count', 'Region', 'Tavern', 'Hashed_deal_detail_1',\n",
       "       'Hashed_deal_detail_2', 'Hashed_deal_detail_3', 'Hashed_deal_detail_4',\n",
       "       'Hashed_deal_detail_5', 'Hashed_deal_detail_6', 'Age', 'Gender',\n",
       "       'Default'],\n",
       "      dtype='object')"
      ]
     },
     "execution_count": 119,
     "metadata": {},
     "output_type": "execute_result"
    }
   ],
   "source": [
    "df.columns"
   ]
  },
  {
   "cell_type": "code",
   "execution_count": 120,
   "id": "984ba7f3",
   "metadata": {},
   "outputs": [
    {
     "data": {
      "text/plain": [
       "Secret_dwarf_info_1       2633\n",
       "Secret_dwarf_info_2       2633\n",
       "Secret_dwarf_info_3       2633\n",
       "First_default_date        2633\n",
       "Successful_deals_count      14\n",
       "Region                       7\n",
       "dtype: int64"
      ]
     },
     "execution_count": 120,
     "metadata": {},
     "output_type": "execute_result"
    }
   ],
   "source": [
    "df.isna().sum()[df.isna().sum() > 0]"
   ]
  },
  {
   "cell_type": "markdown",
   "id": "1e3389c0",
   "metadata": {},
   "source": [
    "#### Заполним пропуски в некоторых числовых колонках"
   ]
  },
  {
   "cell_type": "code",
   "execution_count": 121,
   "id": "cebc404d",
   "metadata": {},
   "outputs": [],
   "source": [
    "def nan_values(df):\n",
    "    mean_value = ['Secret_dwarf_info_1', 'Secret_dwarf_info_2', 'Secret_dwarf_info_3']\n",
    "    for i in mean_value:\n",
    "        df[i].fillna(value = df[i].mean(), inplace = True)\n",
    "        \n",
    "    df['Region'].fillna(df.Region.mode()[0], inplace = True)\n",
    "    df['Successful_deals_count'].fillna(0, inplace = True)\n",
    "    return df\n",
    "\n",
    "df = nan_values(df)\n",
    "df_t = nan_values(df_t)"
   ]
  },
  {
   "cell_type": "markdown",
   "id": "6d6ac3eb",
   "metadata": {},
   "source": [
    "#### Поработаем с датами"
   ]
  },
  {
   "cell_type": "code",
   "execution_count": 122,
   "id": "7dc4a71f",
   "metadata": {},
   "outputs": [],
   "source": [
    "df['First_default_date'] = pd.to_datetime(df['First_default_date'])\n",
    "df['First_deal_date'] = pd.to_datetime(df['First_deal_date'])\n",
    "df['Deal_date'] = pd.to_datetime(df['Deal_date'])"
   ]
  },
  {
   "cell_type": "code",
   "execution_count": 123,
   "id": "82ae7123",
   "metadata": {},
   "outputs": [],
   "source": [
    "df_t['First_default_date'] = pd.to_datetime(df_t['First_default_date'])\n",
    "df_t['First_deal_date'] = pd.to_datetime(df_t['First_deal_date'])\n",
    "df_t['Deal_date'] = pd.to_datetime(df_t['Deal_date'])"
   ]
  },
  {
   "cell_type": "code",
   "execution_count": 124,
   "id": "8857d2d9",
   "metadata": {},
   "outputs": [],
   "source": [
    "data = pd.DataFrame(df['First_default_date'].value_counts().values, index = df['First_default_date'].value_counts().index)\\\n",
    "                                                                        .reset_index()\n",
    "data.rename(columns = {0:'count'}, inplace = True)"
   ]
  },
  {
   "cell_type": "code",
   "execution_count": 125,
   "id": "7b94aee0",
   "metadata": {},
   "outputs": [
    {
     "data": {
      "text/plain": [
       "<AxesSubplot:title={'center':'Count across time'}>"
      ]
     },
     "execution_count": 125,
     "metadata": {},
     "output_type": "execute_result"
    },
    {
     "data": {
      "image/png": "[encoded data removed]",
      "text/plain": [
       "<Figure size 1800x720 with 1 Axes>"
      ]
     },
     "metadata": {
      "needs_background": "light"
     },
     "output_type": "display_data"
    }
   ],
   "source": [
    "data.plot(x='index', y='count', kind='line', rot=45, legend=None, \n",
    "        title='Count across time', xlabel='', fontsize=15, figsize=(25,10))"
   ]
  },
  {
   "cell_type": "code",
   "execution_count": 126,
   "id": "cb0a7949",
   "metadata": {},
   "outputs": [
    {
     "data": {
      "text/plain": [
       "(Timestamp('2015-05-01 00:00:00'), Timestamp('2016-09-13 00:00:00'))"
      ]
     },
     "execution_count": 126,
     "metadata": {},
     "output_type": "execute_result"
    }
   ],
   "source": [
    "df['First_default_date'].min(), df['First_default_date'].max()"
   ]
  },
  {
   "cell_type": "code",
   "execution_count": 127,
   "id": "3f972913",
   "metadata": {},
   "outputs": [],
   "source": [
    "def nan_data(df):\n",
    "    min_date = df['First_default_date'].min()\n",
    "    fil_dat = min_date - pd.Timedelta(days = 365)\n",
    "    df['First_default_date'].fillna(fil_dat, inplace = True)\n",
    "    \n",
    "\n",
    "    \n",
    "    df['First_default_date_day'] = df['First_default_date'].apply(lambda x:x.day)\n",
    "    df['First_default_date_month'] = df['First_default_date'].apply(lambda x:x.month)\n",
    "    df['First_default_date_year'] = df['First_default_date'].apply(lambda x:x.year)\n",
    "\n",
    "    df['First_deal_date_day'] = df['First_deal_date'].apply(lambda x:x.day)\n",
    "    df['First_deal_date_month'] = df['First_deal_date'].apply(lambda x:x.month)\n",
    "    df['First_deal_date_year'] = df['First_deal_date'].apply(lambda x:x.year)\n",
    "\n",
    "    df['Deal_date_day'] = df['Deal_date'].apply(lambda x:x.day)\n",
    "    df['Deal_date_month'] = df['Deal_date'].apply(lambda x:x.month)\n",
    "    df['Deal_date_year'] = df['Deal_date'].apply(lambda x:x.year)\n",
    "    \n",
    "    return df\n",
    "\n",
    "df = nan_data(df)\n",
    "df_t = nan_data(df_t)"
   ]
  },
  {
   "cell_type": "markdown",
   "id": "f9365147",
   "metadata": {},
   "source": [
    "#### Преобразуем категориальный признаки"
   ]
  },
  {
   "cell_type": "code",
   "execution_count": 128,
   "id": "94195535",
   "metadata": {},
   "outputs": [
    {
     "name": "stderr",
     "output_type": "stream",
     "text": [
      "C:\\Users\\Admin\\AppData\\Local\\Temp/ipykernel_19544/1324369251.py:1: DeprecationWarning: `np.object` is a deprecated alias for the builtin `object`. To silence this warning, use `object` by itself. Doing this will not modify any behavior and is safe. \n",
      "Deprecated in NumPy 1.20; for more details and guidance: https://numpy.org/devdocs/release/1.20.0-notes.html#deprecations\n",
      "  obj_columns = df.loc[:, df.dtypes == np.object].columns\n"
     ]
    },
    {
     "data": {
      "text/plain": [
       "Index(['Region', 'Gender'], dtype='object')"
      ]
     },
     "execution_count": 128,
     "metadata": {},
     "output_type": "execute_result"
    }
   ],
   "source": [
    "obj_columns = df.loc[:, df.dtypes == np.object].columns\n",
    "obj_columns"
   ]
  },
  {
   "cell_type": "code",
   "execution_count": 129,
   "id": "b9d0ad82",
   "metadata": {},
   "outputs": [],
   "source": [
    "### Преобразуем категориальные колонки\n",
    "def nan_kateg(df):\n",
    "    for col in obj_columns:\n",
    "\n",
    "        if df[col].nunique() < 10:\n",
    "            one_hot = pd.get_dummies(df[col], prefix=col, drop_first = True)\n",
    "            df = pd.concat((df.drop(col, axis=1), one_hot), axis=1)\n",
    "\n",
    "        else:\n",
    "            obj_mean = df.groupby(col).agg({'Default':'mean'}).squeeze()\n",
    "            df[col] = df[col].map(obj_mean)\n",
    "            \n",
    "    return df\n",
    "\n",
    "df = nan_kateg(df)\n",
    "df_t = nan_kateg(df_t)"
   ]
  },
  {
   "cell_type": "code",
   "execution_count": 130,
   "id": "e9a691f5",
   "metadata": {},
   "outputs": [],
   "source": [
    "#с этих столбцов уже получили всю необ инфу\n",
    "df.drop(['Deal_date', 'First_deal_date', 'First_default_date'], axis = 1, inplace = True)\n",
    "df_t.drop(['Deal_date', 'First_deal_date', 'First_default_date'], axis = 1, inplace = True)"
   ]
  },
  {
   "cell_type": "code",
   "execution_count": 131,
   "id": "b3884309",
   "metadata": {},
   "outputs": [
    {
     "data": {
      "text/html": [
       "<div>\n",
       "<style scoped>\n",
       "    .dataframe tbody tr th:only-of-type {\n",
       "        vertical-align: middle;\n",
       "    }\n",
       "\n",
       "    .dataframe tbody tr th {\n",
       "        vertical-align: top;\n",
       "    }\n",
       "\n",
       "    .dataframe thead th {\n",
       "        text-align: right;\n",
       "    }\n",
       "</style>\n",
       "<table border=\"1\" class=\"dataframe\">\n",
       "  <thead>\n",
       "    <tr style=\"text-align: right;\">\n",
       "      <th></th>\n",
       "      <th>Deal_id</th>\n",
       "      <th>Secret_dwarf_info_1</th>\n",
       "      <th>Secret_dwarf_info_2</th>\n",
       "      <th>Secret_dwarf_info_3</th>\n",
       "      <th>Successful_deals_count</th>\n",
       "      <th>Tavern</th>\n",
       "      <th>Hashed_deal_detail_1</th>\n",
       "      <th>Hashed_deal_detail_2</th>\n",
       "      <th>Hashed_deal_detail_3</th>\n",
       "      <th>Hashed_deal_detail_4</th>\n",
       "      <th>...</th>\n",
       "      <th>Deal_date_month</th>\n",
       "      <th>Deal_date_year</th>\n",
       "      <th>Region_Tavern_district_1</th>\n",
       "      <th>Region_Tavern_district_2</th>\n",
       "      <th>Region_Tavern_district_3</th>\n",
       "      <th>Region_Tavern_district_4</th>\n",
       "      <th>Region_Tavern_district_5</th>\n",
       "      <th>Region_Tavern_district_6</th>\n",
       "      <th>Region_Tavern_district_7</th>\n",
       "      <th>Gender_Male</th>\n",
       "    </tr>\n",
       "  </thead>\n",
       "  <tbody>\n",
       "    <tr>\n",
       "      <th>0</th>\n",
       "      <td>22487461</td>\n",
       "      <td>3.935514</td>\n",
       "      <td>-2.299065</td>\n",
       "      <td>5.26729</td>\n",
       "      <td>0.0</td>\n",
       "      <td>7</td>\n",
       "      <td>2.5</td>\n",
       "      <td>-3</td>\n",
       "      <td>8</td>\n",
       "      <td>2.5</td>\n",
       "      <td>...</td>\n",
       "      <td>11</td>\n",
       "      <td>2015</td>\n",
       "      <td>0</td>\n",
       "      <td>0</td>\n",
       "      <td>1</td>\n",
       "      <td>0</td>\n",
       "      <td>0</td>\n",
       "      <td>0</td>\n",
       "      <td>0</td>\n",
       "      <td>1</td>\n",
       "    </tr>\n",
       "    <tr>\n",
       "      <th>1</th>\n",
       "      <td>62494261</td>\n",
       "      <td>3.500000</td>\n",
       "      <td>-2.000000</td>\n",
       "      <td>5.00000</td>\n",
       "      <td>2.0</td>\n",
       "      <td>7</td>\n",
       "      <td>2.5</td>\n",
       "      <td>-3</td>\n",
       "      <td>14</td>\n",
       "      <td>3.5</td>\n",
       "      <td>...</td>\n",
       "      <td>8</td>\n",
       "      <td>2016</td>\n",
       "      <td>0</td>\n",
       "      <td>0</td>\n",
       "      <td>0</td>\n",
       "      <td>1</td>\n",
       "      <td>0</td>\n",
       "      <td>0</td>\n",
       "      <td>0</td>\n",
       "      <td>0</td>\n",
       "    </tr>\n",
       "    <tr>\n",
       "      <th>2</th>\n",
       "      <td>34822849</td>\n",
       "      <td>3.935514</td>\n",
       "      <td>-2.299065</td>\n",
       "      <td>5.26729</td>\n",
       "      <td>0.0</td>\n",
       "      <td>7</td>\n",
       "      <td>2.5</td>\n",
       "      <td>-3</td>\n",
       "      <td>8</td>\n",
       "      <td>2.5</td>\n",
       "      <td>...</td>\n",
       "      <td>2</td>\n",
       "      <td>2016</td>\n",
       "      <td>0</td>\n",
       "      <td>0</td>\n",
       "      <td>0</td>\n",
       "      <td>0</td>\n",
       "      <td>0</td>\n",
       "      <td>1</td>\n",
       "      <td>0</td>\n",
       "      <td>0</td>\n",
       "    </tr>\n",
       "    <tr>\n",
       "      <th>3</th>\n",
       "      <td>46893387</td>\n",
       "      <td>3.935514</td>\n",
       "      <td>-2.299065</td>\n",
       "      <td>5.26729</td>\n",
       "      <td>0.0</td>\n",
       "      <td>13</td>\n",
       "      <td>2.5</td>\n",
       "      <td>-2</td>\n",
       "      <td>5</td>\n",
       "      <td>2.5</td>\n",
       "      <td>...</td>\n",
       "      <td>4</td>\n",
       "      <td>2016</td>\n",
       "      <td>0</td>\n",
       "      <td>1</td>\n",
       "      <td>0</td>\n",
       "      <td>0</td>\n",
       "      <td>0</td>\n",
       "      <td>0</td>\n",
       "      <td>0</td>\n",
       "      <td>0</td>\n",
       "    </tr>\n",
       "    <tr>\n",
       "      <th>4</th>\n",
       "      <td>67128275</td>\n",
       "      <td>3.935514</td>\n",
       "      <td>-2.299065</td>\n",
       "      <td>5.26729</td>\n",
       "      <td>0.0</td>\n",
       "      <td>39</td>\n",
       "      <td>2.5</td>\n",
       "      <td>-3</td>\n",
       "      <td>7</td>\n",
       "      <td>2.5</td>\n",
       "      <td>...</td>\n",
       "      <td>9</td>\n",
       "      <td>2016</td>\n",
       "      <td>0</td>\n",
       "      <td>0</td>\n",
       "      <td>0</td>\n",
       "      <td>1</td>\n",
       "      <td>0</td>\n",
       "      <td>0</td>\n",
       "      <td>0</td>\n",
       "      <td>0</td>\n",
       "    </tr>\n",
       "  </tbody>\n",
       "</table>\n",
       "<p>5 rows × 31 columns</p>\n",
       "</div>"
      ],
      "text/plain": [
       "    Deal_id  Secret_dwarf_info_1  Secret_dwarf_info_2  Secret_dwarf_info_3  \\\n",
       "0  22487461             3.935514            -2.299065              5.26729   \n",
       "1  62494261             3.500000            -2.000000              5.00000   \n",
       "2  34822849             3.935514            -2.299065              5.26729   \n",
       "3  46893387             3.935514            -2.299065              5.26729   \n",
       "4  67128275             3.935514            -2.299065              5.26729   \n",
       "\n",
       "   Successful_deals_count  Tavern  Hashed_deal_detail_1  Hashed_deal_detail_2  \\\n",
       "0                     0.0       7                   2.5                    -3   \n",
       "1                     2.0       7                   2.5                    -3   \n",
       "2                     0.0       7                   2.5                    -3   \n",
       "3                     0.0      13                   2.5                    -2   \n",
       "4                     0.0      39                   2.5                    -3   \n",
       "\n",
       "   Hashed_deal_detail_3  Hashed_deal_detail_4  ...  Deal_date_month  \\\n",
       "0                     8                   2.5  ...               11   \n",
       "1                    14                   3.5  ...                8   \n",
       "2                     8                   2.5  ...                2   \n",
       "3                     5                   2.5  ...                4   \n",
       "4                     7                   2.5  ...                9   \n",
       "\n",
       "   Deal_date_year  Region_Tavern_district_1  Region_Tavern_district_2  \\\n",
       "0            2015                         0                         0   \n",
       "1            2016                         0                         0   \n",
       "2            2016                         0                         0   \n",
       "3            2016                         0                         1   \n",
       "4            2016                         0                         0   \n",
       "\n",
       "   Region_Tavern_district_3  Region_Tavern_district_4  \\\n",
       "0                         1                         0   \n",
       "1                         0                         1   \n",
       "2                         0                         0   \n",
       "3                         0                         0   \n",
       "4                         0                         1   \n",
       "\n",
       "   Region_Tavern_district_5  Region_Tavern_district_6  \\\n",
       "0                         0                         0   \n",
       "1                         0                         0   \n",
       "2                         0                         1   \n",
       "3                         0                         0   \n",
       "4                         0                         0   \n",
       "\n",
       "   Region_Tavern_district_7  Gender_Male  \n",
       "0                         0            1  \n",
       "1                         0            0  \n",
       "2                         0            0  \n",
       "3                         0            0  \n",
       "4                         0            0  \n",
       "\n",
       "[5 rows x 31 columns]"
      ]
     },
     "execution_count": 131,
     "metadata": {},
     "output_type": "execute_result"
    }
   ],
   "source": [
    "df.head()"
   ]
  },
  {
   "cell_type": "code",
   "execution_count": null,
   "id": "e736183a",
   "metadata": {},
   "outputs": [],
   "source": []
  },
  {
   "cell_type": "markdown",
   "id": "78036f6f",
   "metadata": {},
   "source": [
    "### Начнём обучение\n",
    "\n",
    "Начнём с RandomForestClassifier()"
   ]
  },
  {
   "cell_type": "code",
   "execution_count": 132,
   "id": "79880cb1",
   "metadata": {},
   "outputs": [],
   "source": [
    "X = df.drop(['Default', 'Deal_id'], axis = 1)\n",
    "y = df['Default']"
   ]
  },
  {
   "cell_type": "code",
   "execution_count": 133,
   "id": "5f43939f",
   "metadata": {},
   "outputs": [],
   "source": [
    "X_t = df_t.drop(['Deal_id'], axis = 1)"
   ]
  },
  {
   "cell_type": "code",
   "execution_count": 134,
   "id": "552efd62",
   "metadata": {},
   "outputs": [],
   "source": [
    "X_train, X_test, y_train, y_test = train_test_split(X, y, test_size = 0.2, random_state = 0, stratify = y)"
   ]
  },
  {
   "cell_type": "code",
   "execution_count": 135,
   "id": "28dda6a9",
   "metadata": {},
   "outputs": [
    {
     "data": {
      "text/plain": [
       "((2534, 29), (634, 29))"
      ]
     },
     "execution_count": 135,
     "metadata": {},
     "output_type": "execute_result"
    }
   ],
   "source": [
    "X_train.shape, X_test.shape"
   ]
  },
  {
   "cell_type": "code",
   "execution_count": 215,
   "id": "b6e5362c",
   "metadata": {},
   "outputs": [
    {
     "data": {
      "text/plain": [
       "Pipeline(steps=[('clf', RandomForestClassifier(random_state=0))])"
      ]
     },
     "execution_count": 215,
     "metadata": {},
     "output_type": "execute_result"
    }
   ],
   "source": [
    "pipe_rf = Pipeline([('clf', RandomForestClassifier(random_state = 0))])\n",
    "pipe_rf.fit(X_train, y_train)"
   ]
  },
  {
   "cell_type": "code",
   "execution_count": 216,
   "id": "b936c886",
   "metadata": {},
   "outputs": [],
   "source": [
    "y_pred = pipe_rf.predict(X_test)"
   ]
  },
  {
   "attachments": {
    "image.png": {
     "image/png": "[encoded data removed]"
    }
   },
   "cell_type": "markdown",
   "id": "646b25b4",
   "metadata": {},
   "source": [
    "#### Macro average\n",
    "\n",
    "При макро усреднении мы для каждой модели считаем индивидуальные метрики, которые заранее не чувствительны к размеру классов. То есть, используемые индивидуально метрики не чувствительны к дисбалансу. Каждый класс, независимо от размера, одинаково важен для среднего замера.\n",
    "<div>\n",
    "<img src=\"attachment:image.png\" width=\"300\"/>\n",
    "</div>\n",
    "\n",
    "weighted average is precision of all classes merge together.   \n",
    "weighted average = (TP of class 0 + TP of class 1)/(total number of class 0 + total number of class 1 "
   ]
  },
  {
   "cell_type": "code",
   "execution_count": 217,
   "id": "99c6fa90",
   "metadata": {},
   "outputs": [
    {
     "name": "stdout",
     "output_type": "stream",
     "text": [
      "              precision    recall  f1-score   support\n",
      "\n",
      "           0     0.8906    0.9965    0.9406       564\n",
      "           1     0.3333    0.0143    0.0274        70\n",
      "\n",
      "    accuracy                         0.8880       634\n",
      "   macro avg     0.6120    0.5054    0.4840       634\n",
      "weighted avg     0.8291    0.8880    0.8398       634\n",
      "\n"
     ]
    }
   ],
   "source": [
    "print(classification_report(y_test, y_pred, digits = 4))\n"
   ]
  },
  {
   "cell_type": "code",
   "execution_count": null,
   "id": "1adf908f",
   "metadata": {},
   "outputs": [],
   "source": [
    "res_rf = pd.DataFrame({'Deal_id': df_t['Deal_id'],'Prediction': rf.predict_proba(X_t)[:,1]})\n",
    "res_rf[:3]"
   ]
  },
  {
   "cell_type": "markdown",
   "id": "8f645f61",
   "metadata": {},
   "source": [
    "#### Посчитанный системой ROC_AUC: 0.701"
   ]
  },
  {
   "cell_type": "code",
   "execution_count": null,
   "id": "df34e237",
   "metadata": {},
   "outputs": [],
   "source": [
    "res_rf.to_csv('prediction_rf.csv', index = False)"
   ]
  },
  {
   "cell_type": "markdown",
   "id": "2a0aaff0",
   "metadata": {},
   "source": [
    "### Настроим гиперпараметры"
   ]
  },
  {
   "cell_type": "code",
   "execution_count": 139,
   "id": "f47e25a1",
   "metadata": {},
   "outputs": [],
   "source": [
    "n_estimators = np.linspace(30, 420, num = 4).astype(int)#array([ 30., 160., 290., 420.])\n",
    "max_depth = np.linspace(10, 50, num = 5).astype(int)#array([10., 20., 30., 40., 50.])\n",
    "\n",
    "param_grid = {\"clf__n_estimators\":n_estimators,\n",
    "             \"clf__max_depth\":max_depth}"
   ]
  },
  {
   "cell_type": "code",
   "execution_count": 140,
   "id": "7f472bb0",
   "metadata": {},
   "outputs": [],
   "source": [
    "search = GridSearchCV(pipe_rf, param_grid, scoring = \"f1_macro\", cv =3, verbose = 3)"
   ]
  },
  {
   "cell_type": "code",
   "execution_count": 141,
   "id": "6cd61e52",
   "metadata": {},
   "outputs": [
    {
     "name": "stdout",
     "output_type": "stream",
     "text": [
      "Fitting 3 folds for each of 20 candidates, totalling 60 fits\n",
      "[CV 1/3] END clf__max_depth=10, clf__n_estimators=30;, score=0.479 total time=   0.0s\n",
      "[CV 2/3] END clf__max_depth=10, clf__n_estimators=30;, score=0.490 total time=   0.0s\n",
      "[CV 3/3] END clf__max_depth=10, clf__n_estimators=30;, score=0.513 total time=   0.0s\n",
      "[CV 1/3] END clf__max_depth=10, clf__n_estimators=160;, score=0.470 total time=   0.2s\n",
      "[CV 2/3] END clf__max_depth=10, clf__n_estimators=160;, score=0.492 total time=   0.2s\n",
      "[CV 3/3] END clf__max_depth=10, clf__n_estimators=160;, score=0.481 total time=   0.2s\n",
      "[CV 1/3] END clf__max_depth=10, clf__n_estimators=290;, score=0.470 total time=   0.4s\n",
      "[CV 2/3] END clf__max_depth=10, clf__n_estimators=290;, score=0.470 total time=   0.4s\n",
      "[CV 3/3] END clf__max_depth=10, clf__n_estimators=290;, score=0.482 total time=   0.4s\n",
      "[CV 1/3] END clf__max_depth=10, clf__n_estimators=420;, score=0.470 total time=   0.6s\n",
      "[CV 2/3] END clf__max_depth=10, clf__n_estimators=420;, score=0.491 total time=   0.7s\n",
      "[CV 3/3] END clf__max_depth=10, clf__n_estimators=420;, score=0.482 total time=   0.7s\n",
      "[CV 1/3] END clf__max_depth=20, clf__n_estimators=30;, score=0.517 total time=   0.0s\n",
      "[CV 2/3] END clf__max_depth=20, clf__n_estimators=30;, score=0.528 total time=   0.0s\n",
      "[CV 3/3] END clf__max_depth=20, clf__n_estimators=30;, score=0.519 total time=   0.0s\n",
      "[CV 1/3] END clf__max_depth=20, clf__n_estimators=160;, score=0.499 total time=   0.2s\n",
      "[CV 2/3] END clf__max_depth=20, clf__n_estimators=160;, score=0.500 total time=   0.2s\n",
      "[CV 3/3] END clf__max_depth=20, clf__n_estimators=160;, score=0.471 total time=   0.2s\n",
      "[CV 1/3] END clf__max_depth=20, clf__n_estimators=290;, score=0.480 total time=   0.5s\n",
      "[CV 2/3] END clf__max_depth=20, clf__n_estimators=290;, score=0.490 total time=   0.5s\n",
      "[CV 3/3] END clf__max_depth=20, clf__n_estimators=290;, score=0.471 total time=   0.5s\n",
      "[CV 1/3] END clf__max_depth=20, clf__n_estimators=420;, score=0.491 total time=   0.7s\n",
      "[CV 2/3] END clf__max_depth=20, clf__n_estimators=420;, score=0.502 total time=   0.7s\n",
      "[CV 3/3] END clf__max_depth=20, clf__n_estimators=420;, score=0.471 total time=   0.7s\n",
      "[CV 1/3] END clf__max_depth=30, clf__n_estimators=30;, score=0.500 total time=   0.0s\n",
      "[CV 2/3] END clf__max_depth=30, clf__n_estimators=30;, score=0.509 total time=   0.0s\n",
      "[CV 3/3] END clf__max_depth=30, clf__n_estimators=30;, score=0.510 total time=   0.0s\n",
      "[CV 1/3] END clf__max_depth=30, clf__n_estimators=160;, score=0.490 total time=   0.3s\n",
      "[CV 2/3] END clf__max_depth=30, clf__n_estimators=160;, score=0.492 total time=   0.3s\n",
      "[CV 3/3] END clf__max_depth=30, clf__n_estimators=160;, score=0.491 total time=   0.2s\n",
      "[CV 1/3] END clf__max_depth=30, clf__n_estimators=290;, score=0.470 total time=   0.5s\n",
      "[CV 2/3] END clf__max_depth=30, clf__n_estimators=290;, score=0.491 total time=   0.5s\n",
      "[CV 3/3] END clf__max_depth=30, clf__n_estimators=290;, score=0.481 total time=   0.5s\n",
      "[CV 1/3] END clf__max_depth=30, clf__n_estimators=420;, score=0.480 total time=   0.8s\n",
      "[CV 2/3] END clf__max_depth=30, clf__n_estimators=420;, score=0.490 total time=   0.8s\n",
      "[CV 3/3] END clf__max_depth=30, clf__n_estimators=420;, score=0.471 total time=   0.8s\n",
      "[CV 1/3] END clf__max_depth=40, clf__n_estimators=30;, score=0.490 total time=   0.0s\n",
      "[CV 2/3] END clf__max_depth=40, clf__n_estimators=30;, score=0.511 total time=   0.0s\n",
      "[CV 3/3] END clf__max_depth=40, clf__n_estimators=30;, score=0.500 total time=   0.0s\n",
      "[CV 1/3] END clf__max_depth=40, clf__n_estimators=160;, score=0.490 total time=   0.3s\n",
      "[CV 2/3] END clf__max_depth=40, clf__n_estimators=160;, score=0.501 total time=   0.2s\n",
      "[CV 3/3] END clf__max_depth=40, clf__n_estimators=160;, score=0.471 total time=   0.2s\n",
      "[CV 1/3] END clf__max_depth=40, clf__n_estimators=290;, score=0.489 total time=   0.5s\n",
      "[CV 2/3] END clf__max_depth=40, clf__n_estimators=290;, score=0.501 total time=   0.5s\n",
      "[CV 3/3] END clf__max_depth=40, clf__n_estimators=290;, score=0.481 total time=   0.5s\n",
      "[CV 1/3] END clf__max_depth=40, clf__n_estimators=420;, score=0.489 total time=   0.8s\n",
      "[CV 2/3] END clf__max_depth=40, clf__n_estimators=420;, score=0.500 total time=   0.8s\n",
      "[CV 3/3] END clf__max_depth=40, clf__n_estimators=420;, score=0.471 total time=   0.7s\n",
      "[CV 1/3] END clf__max_depth=50, clf__n_estimators=30;, score=0.480 total time=   0.0s\n",
      "[CV 2/3] END clf__max_depth=50, clf__n_estimators=30;, score=0.513 total time=   0.0s\n",
      "[CV 3/3] END clf__max_depth=50, clf__n_estimators=30;, score=0.499 total time=   0.0s\n",
      "[CV 1/3] END clf__max_depth=50, clf__n_estimators=160;, score=0.511 total time=   0.3s\n",
      "[CV 2/3] END clf__max_depth=50, clf__n_estimators=160;, score=0.500 total time=   0.2s\n",
      "[CV 3/3] END clf__max_depth=50, clf__n_estimators=160;, score=0.482 total time=   0.2s\n",
      "[CV 1/3] END clf__max_depth=50, clf__n_estimators=290;, score=0.490 total time=   0.5s\n",
      "[CV 2/3] END clf__max_depth=50, clf__n_estimators=290;, score=0.511 total time=   0.5s\n",
      "[CV 3/3] END clf__max_depth=50, clf__n_estimators=290;, score=0.481 total time=   0.5s\n",
      "[CV 1/3] END clf__max_depth=50, clf__n_estimators=420;, score=0.480 total time=   0.7s\n",
      "[CV 2/3] END clf__max_depth=50, clf__n_estimators=420;, score=0.490 total time=   0.7s\n",
      "[CV 3/3] END clf__max_depth=50, clf__n_estimators=420;, score=0.471 total time=   0.7s\n"
     ]
    },
    {
     "data": {
      "text/plain": [
       "GridSearchCV(cv=3,\n",
       "             estimator=Pipeline(steps=[('clf', RandomForestClassifier())]),\n",
       "             param_grid={'clf__max_depth': array([10, 20, 30, 40, 50]),\n",
       "                         'clf__n_estimators': array([ 30, 160, 290, 420])},\n",
       "             scoring='f1_macro', verbose=3)"
      ]
     },
     "execution_count": 141,
     "metadata": {},
     "output_type": "execute_result"
    }
   ],
   "source": [
    "search.fit(X_train, y_train)"
   ]
  },
  {
   "cell_type": "code",
   "execution_count": 147,
   "id": "ef883d22",
   "metadata": {},
   "outputs": [
    {
     "data": {
      "text/plain": [
       "(0.5212927495388722,\n",
       " Pipeline(steps=[('clf', RandomForestClassifier(max_depth=20, n_estimators=30))]))"
      ]
     },
     "execution_count": 147,
     "metadata": {},
     "output_type": "execute_result"
    }
   ],
   "source": [
    "search.best_score_, search.best_estimator_"
   ]
  },
  {
   "cell_type": "markdown",
   "id": "259319fd",
   "metadata": {},
   "source": [
    "#### F1_macro стало меньше по сравнению с  RF без параметров\n",
    "Было 0.5101"
   ]
  },
  {
   "cell_type": "code",
   "execution_count": 149,
   "id": "6812d075",
   "metadata": {},
   "outputs": [
    {
     "data": {
      "text/plain": [
       "0.4833627597446692"
      ]
     },
     "execution_count": 149,
     "metadata": {},
     "output_type": "execute_result"
    }
   ],
   "source": [
    "search.score(X_test, y_test)"
   ]
  },
  {
   "cell_type": "code",
   "execution_count": 150,
   "id": "fba0f0ae",
   "metadata": {},
   "outputs": [],
   "source": [
    "y_prob_train = search.predict_proba(X_train)[:, 1]\n",
    "y_prob_test = search.predict_proba(X_test)[:, 1]"
   ]
  },
  {
   "cell_type": "code",
   "execution_count": 151,
   "id": "af7405a4",
   "metadata": {},
   "outputs": [
    {
     "data": {
      "text/plain": [
       "Text(0.5, 1.0, 'Train Precision-Recall curve')"
      ]
     },
     "execution_count": 151,
     "metadata": {},
     "output_type": "execute_result"
    },
    {
     "data": {
      "image/png": "[encoded data removed]",
      "text/plain": [
       "<Figure size 432x288 with 1 Axes>"
      ]
     },
     "metadata": {
      "needs_background": "light"
     },
     "output_type": "display_data"
    }
   ],
   "source": [
    "precision, recall, thresholds = precision_recall_curve(y_train, y_prob_train)\n",
    "plt.plot(recall, precision)\n",
    "plt.ylabel(\"Precision\")\n",
    "plt.xlabel(\"Recall\")\n",
    "plt.title(\"Train Precision-Recall curve\")"
   ]
  },
  {
   "cell_type": "code",
   "execution_count": 152,
   "id": "3155603e",
   "metadata": {},
   "outputs": [
    {
     "data": {
      "image/png": "[encoded data removed]",
      "text/plain": [
       "<Figure size 576x360 with 1 Axes>"
      ]
     },
     "metadata": {
      "needs_background": "light"
     },
     "output_type": "display_data"
    }
   ],
   "source": [
    "def plot_precision_recall_vs_threshold(precisions, recall, thresholds): \n",
    "    fig = plt.figure(figsize= (8,5))\n",
    "    plt.plot(thresholds, precisions[:-1], \"b--\", label=\"Precision\")\n",
    "    plt.plot(thresholds, recall[:-1], \"g-\", label=\"Recall\")\n",
    "    plt.legend()\n",
    "\n",
    "plot_precision_recall_vs_threshold(precision, recall, thresholds)"
   ]
  },
  {
   "cell_type": "code",
   "execution_count": 153,
   "id": "a11d6aa1",
   "metadata": {},
   "outputs": [],
   "source": [
    "res = pd.DataFrame({'Deal_id': df_t['Deal_id'],'Prediction': search.predict_proba(X_t)[:,1]})"
   ]
  },
  {
   "cell_type": "code",
   "execution_count": 154,
   "id": "856704f0",
   "metadata": {},
   "outputs": [],
   "source": [
    "res.to_csv('prediction.csv', index = False)"
   ]
  },
  {
   "cell_type": "markdown",
   "id": "de073cb9",
   "metadata": {},
   "source": [
    "#### Посчитанный системой ROC_AUC:  0.627"
   ]
  },
  {
   "cell_type": "code",
   "execution_count": 177,
   "id": "c77bd225",
   "metadata": {},
   "outputs": [
    {
     "data": {
      "text/html": [
       "<div>\n",
       "<style scoped>\n",
       "    .dataframe tbody tr th:only-of-type {\n",
       "        vertical-align: middle;\n",
       "    }\n",
       "\n",
       "    .dataframe tbody tr th {\n",
       "        vertical-align: top;\n",
       "    }\n",
       "\n",
       "    .dataframe thead th {\n",
       "        text-align: right;\n",
       "    }\n",
       "</style>\n",
       "<table border=\"1\" class=\"dataframe\">\n",
       "  <thead>\n",
       "    <tr style=\"text-align: right;\">\n",
       "      <th></th>\n",
       "      <th>Deal_id</th>\n",
       "      <th>Prediction</th>\n",
       "    </tr>\n",
       "  </thead>\n",
       "  <tbody>\n",
       "    <tr>\n",
       "      <th>0</th>\n",
       "      <td>72875713</td>\n",
       "      <td>0.233333</td>\n",
       "    </tr>\n",
       "    <tr>\n",
       "      <th>1</th>\n",
       "      <td>75825544</td>\n",
       "      <td>0.233333</td>\n",
       "    </tr>\n",
       "    <tr>\n",
       "      <th>2</th>\n",
       "      <td>81809181</td>\n",
       "      <td>0.207843</td>\n",
       "    </tr>\n",
       "  </tbody>\n",
       "</table>\n",
       "</div>"
      ],
      "text/plain": [
       "    Deal_id  Prediction\n",
       "0  72875713    0.233333\n",
       "1  75825544    0.233333\n",
       "2  81809181    0.207843"
      ]
     },
     "execution_count": 177,
     "metadata": {},
     "output_type": "execute_result"
    }
   ],
   "source": [
    "df = pd.read_csv('prediction.csv')\n",
    "df[:3]"
   ]
  },
  {
   "cell_type": "code",
   "execution_count": null,
   "id": "4309651a",
   "metadata": {},
   "outputs": [],
   "source": []
  },
  {
   "cell_type": "markdown",
   "id": "dd949e35",
   "metadata": {},
   "source": [
    "### Попробуем обучить SVM"
   ]
  },
  {
   "cell_type": "code",
   "execution_count": 161,
   "id": "6f33b26f",
   "metadata": {},
   "outputs": [
    {
     "data": {
      "text/plain": [
       "Pipeline(steps=[('scaler', StandardScaler()), ('svm', SVC(probability=True))])"
      ]
     },
     "execution_count": 161,
     "metadata": {},
     "output_type": "execute_result"
    }
   ],
   "source": [
    "from sklearn.svm import SVC\n",
    "from sklearn.metrics import classification_report, confusion_matrix\n",
    "from sklearn.preprocessing import StandardScaler\n",
    "\n",
    "svm = Pipeline([('scaler', StandardScaler()), ('svm', SVC(probability = True))])\n",
    "svm.fit(X_train, y_train)"
   ]
  },
  {
   "cell_type": "code",
   "execution_count": 162,
   "id": "e81f7252",
   "metadata": {},
   "outputs": [],
   "source": [
    "prediction = svm.predict(X_test)"
   ]
  },
  {
   "cell_type": "code",
   "execution_count": 163,
   "id": "f56ebee7",
   "metadata": {},
   "outputs": [
    {
     "name": "stdout",
     "output_type": "stream",
     "text": [
      "              precision    recall  f1-score   support\n",
      "\n",
      "           0    0.88959   1.00000   0.94157       564\n",
      "           1    0.00000   0.00000   0.00000        70\n",
      "\n",
      "    accuracy                        0.88959       634\n",
      "   macro avg    0.44479   0.50000   0.47078       634\n",
      "weighted avg    0.79137   0.88959   0.83761       634\n",
      "\n"
     ]
    },
    {
     "name": "stderr",
     "output_type": "stream",
     "text": [
      "C:\\Users\\Admin\\anaconda3\\lib\\site-packages\\sklearn\\metrics\\_classification.py:1318: UndefinedMetricWarning: Precision and F-score are ill-defined and being set to 0.0 in labels with no predicted samples. Use `zero_division` parameter to control this behavior.\n",
      "  _warn_prf(average, modifier, msg_start, len(result))\n",
      "C:\\Users\\Admin\\anaconda3\\lib\\site-packages\\sklearn\\metrics\\_classification.py:1318: UndefinedMetricWarning: Precision and F-score are ill-defined and being set to 0.0 in labels with no predicted samples. Use `zero_division` parameter to control this behavior.\n",
      "  _warn_prf(average, modifier, msg_start, len(result))\n",
      "C:\\Users\\Admin\\anaconda3\\lib\\site-packages\\sklearn\\metrics\\_classification.py:1318: UndefinedMetricWarning: Precision and F-score are ill-defined and being set to 0.0 in labels with no predicted samples. Use `zero_division` parameter to control this behavior.\n",
      "  _warn_prf(average, modifier, msg_start, len(result))\n"
     ]
    }
   ],
   "source": [
    "print(classification_report(y_test, prediction, digits = 5))"
   ]
  },
  {
   "cell_type": "code",
   "execution_count": 193,
   "id": "7fbd09c9",
   "metadata": {
    "scrolled": false
   },
   "outputs": [
    {
     "name": "stdout",
     "output_type": "stream",
     "text": [
      "Fitting 3 folds for each of 48 candidates, totalling 144 fits\n",
      "[CV 1/3] END svm__C=0.1, svm__gamma=1, svm__kernel=poly;, score=0.539 total time=   0.4s\n",
      "[CV 2/3] END svm__C=0.1, svm__gamma=1, svm__kernel=poly;, score=0.530 total time=   0.5s\n",
      "[CV 3/3] END svm__C=0.1, svm__gamma=1, svm__kernel=poly;, score=0.529 total time=   0.6s\n",
      "[CV 1/3] END svm__C=0.1, svm__gamma=1, svm__kernel=rbf;, score=0.471 total time=   1.0s\n",
      "[CV 2/3] END svm__C=0.1, svm__gamma=1, svm__kernel=rbf;, score=0.471 total time=   0.9s\n",
      "[CV 3/3] END svm__C=0.1, svm__gamma=1, svm__kernel=rbf;, score=0.471 total time=   0.9s\n",
      "[CV 1/3] END svm__C=0.1, svm__gamma=1, svm__kernel=sigmoid;, score=0.516 total time=   0.3s\n",
      "[CV 2/3] END svm__C=0.1, svm__gamma=1, svm__kernel=sigmoid;, score=0.487 total time=   0.3s\n",
      "[CV 3/3] END svm__C=0.1, svm__gamma=1, svm__kernel=sigmoid;, score=0.526 total time=   0.2s\n",
      "[CV 1/3] END svm__C=0.1, svm__gamma=0.1, svm__kernel=poly;, score=0.517 total time=   0.2s\n",
      "[CV 2/3] END svm__C=0.1, svm__gamma=0.1, svm__kernel=poly;, score=0.532 total time=   0.2s\n",
      "[CV 3/3] END svm__C=0.1, svm__gamma=0.1, svm__kernel=poly;, score=0.547 total time=   0.2s\n",
      "[CV 1/3] END svm__C=0.1, svm__gamma=0.1, svm__kernel=rbf;, score=0.471 total time=   0.5s\n",
      "[CV 2/3] END svm__C=0.1, svm__gamma=0.1, svm__kernel=rbf;, score=0.471 total time=   0.5s\n",
      "[CV 3/3] END svm__C=0.1, svm__gamma=0.1, svm__kernel=rbf;, score=0.471 total time=   0.5s\n",
      "[CV 1/3] END svm__C=0.1, svm__gamma=0.1, svm__kernel=sigmoid;, score=0.518 total time=   0.2s\n",
      "[CV 2/3] END svm__C=0.1, svm__gamma=0.1, svm__kernel=sigmoid;, score=0.481 total time=   0.2s\n",
      "[CV 3/3] END svm__C=0.1, svm__gamma=0.1, svm__kernel=sigmoid;, score=0.491 total time=   0.2s\n",
      "[CV 1/3] END svm__C=0.1, svm__gamma=0.01, svm__kernel=poly;, score=0.471 total time=   0.1s\n",
      "[CV 2/3] END svm__C=0.1, svm__gamma=0.01, svm__kernel=poly;, score=0.471 total time=   0.1s\n",
      "[CV 3/3] END svm__C=0.1, svm__gamma=0.01, svm__kernel=poly;, score=0.471 total time=   0.1s\n",
      "[CV 1/3] END svm__C=0.1, svm__gamma=0.01, svm__kernel=rbf;, score=0.471 total time=   0.3s\n",
      "[CV 2/3] END svm__C=0.1, svm__gamma=0.01, svm__kernel=rbf;, score=0.471 total time=   0.3s\n",
      "[CV 3/3] END svm__C=0.1, svm__gamma=0.01, svm__kernel=rbf;, score=0.471 total time=   0.3s\n",
      "[CV 1/3] END svm__C=0.1, svm__gamma=0.01, svm__kernel=sigmoid;, score=0.471 total time=   0.2s\n",
      "[CV 2/3] END svm__C=0.1, svm__gamma=0.01, svm__kernel=sigmoid;, score=0.471 total time=   0.2s\n",
      "[CV 3/3] END svm__C=0.1, svm__gamma=0.01, svm__kernel=sigmoid;, score=0.471 total time=   0.2s\n",
      "[CV 1/3] END svm__C=0.1, svm__gamma=0.001, svm__kernel=poly;, score=0.471 total time=   0.0s\n",
      "[CV 2/3] END svm__C=0.1, svm__gamma=0.001, svm__kernel=poly;, score=0.471 total time=   0.0s\n",
      "[CV 3/3] END svm__C=0.1, svm__gamma=0.001, svm__kernel=poly;, score=0.471 total time=   0.0s\n",
      "[CV 1/3] END svm__C=0.1, svm__gamma=0.001, svm__kernel=rbf;, score=0.471 total time=   0.2s\n",
      "[CV 2/3] END svm__C=0.1, svm__gamma=0.001, svm__kernel=rbf;, score=0.471 total time=   0.2s\n",
      "[CV 3/3] END svm__C=0.1, svm__gamma=0.001, svm__kernel=rbf;, score=0.471 total time=   0.2s\n",
      "[CV 1/3] END svm__C=0.1, svm__gamma=0.001, svm__kernel=sigmoid;, score=0.471 total time=   0.1s\n",
      "[CV 2/3] END svm__C=0.1, svm__gamma=0.001, svm__kernel=sigmoid;, score=0.471 total time=   0.1s\n",
      "[CV 3/3] END svm__C=0.1, svm__gamma=0.001, svm__kernel=sigmoid;, score=0.471 total time=   0.1s\n",
      "[CV 1/3] END svm__C=1, svm__gamma=1, svm__kernel=poly;, score=0.533 total time=   0.5s\n",
      "[CV 2/3] END svm__C=1, svm__gamma=1, svm__kernel=poly;, score=0.515 total time=   0.5s\n",
      "[CV 3/3] END svm__C=1, svm__gamma=1, svm__kernel=poly;, score=0.550 total time=   0.7s\n",
      "[CV 1/3] END svm__C=1, svm__gamma=1, svm__kernel=rbf;, score=0.471 total time=   1.0s\n",
      "[CV 2/3] END svm__C=1, svm__gamma=1, svm__kernel=rbf;, score=0.470 total time=   1.0s\n",
      "[CV 3/3] END svm__C=1, svm__gamma=1, svm__kernel=rbf;, score=0.471 total time=   1.0s\n",
      "[CV 1/3] END svm__C=1, svm__gamma=1, svm__kernel=sigmoid;, score=0.510 total time=   0.2s\n",
      "[CV 2/3] END svm__C=1, svm__gamma=1, svm__kernel=sigmoid;, score=0.494 total time=   0.2s\n",
      "[CV 3/3] END svm__C=1, svm__gamma=1, svm__kernel=sigmoid;, score=0.501 total time=   0.3s\n",
      "[CV 1/3] END svm__C=1, svm__gamma=0.1, svm__kernel=poly;, score=0.549 total time=   0.3s\n",
      "[CV 2/3] END svm__C=1, svm__gamma=0.1, svm__kernel=poly;, score=0.527 total time=   0.3s\n",
      "[CV 3/3] END svm__C=1, svm__gamma=0.1, svm__kernel=poly;, score=0.565 total time=   0.3s\n",
      "[CV 1/3] END svm__C=1, svm__gamma=0.1, svm__kernel=rbf;, score=0.471 total time=   0.5s\n",
      "[CV 2/3] END svm__C=1, svm__gamma=0.1, svm__kernel=rbf;, score=0.481 total time=   0.5s\n",
      "[CV 3/3] END svm__C=1, svm__gamma=0.1, svm__kernel=rbf;, score=0.471 total time=   0.6s\n",
      "[CV 1/3] END svm__C=1, svm__gamma=0.1, svm__kernel=sigmoid;, score=0.551 total time=   0.2s\n",
      "[CV 2/3] END svm__C=1, svm__gamma=0.1, svm__kernel=sigmoid;, score=0.513 total time=   0.2s\n",
      "[CV 3/3] END svm__C=1, svm__gamma=0.1, svm__kernel=sigmoid;, score=0.534 total time=   0.2s\n",
      "[CV 1/3] END svm__C=1, svm__gamma=0.01, svm__kernel=poly;, score=0.470 total time=   0.2s\n",
      "[CV 2/3] END svm__C=1, svm__gamma=0.01, svm__kernel=poly;, score=0.471 total time=   0.2s\n",
      "[CV 3/3] END svm__C=1, svm__gamma=0.01, svm__kernel=poly;, score=0.471 total time=   0.2s\n",
      "[CV 1/3] END svm__C=1, svm__gamma=0.01, svm__kernel=rbf;, score=0.471 total time=   0.4s\n",
      "[CV 2/3] END svm__C=1, svm__gamma=0.01, svm__kernel=rbf;, score=0.471 total time=   0.4s\n",
      "[CV 3/3] END svm__C=1, svm__gamma=0.01, svm__kernel=rbf;, score=0.471 total time=   0.4s\n",
      "[CV 1/3] END svm__C=1, svm__gamma=0.01, svm__kernel=sigmoid;, score=0.480 total time=   0.2s\n",
      "[CV 2/3] END svm__C=1, svm__gamma=0.01, svm__kernel=sigmoid;, score=0.470 total time=   0.2s\n",
      "[CV 3/3] END svm__C=1, svm__gamma=0.01, svm__kernel=sigmoid;, score=0.470 total time=   0.3s\n",
      "[CV 1/3] END svm__C=1, svm__gamma=0.001, svm__kernel=poly;, score=0.471 total time=   0.0s\n",
      "[CV 2/3] END svm__C=1, svm__gamma=0.001, svm__kernel=poly;, score=0.471 total time=   0.1s\n",
      "[CV 3/3] END svm__C=1, svm__gamma=0.001, svm__kernel=poly;, score=0.471 total time=   0.0s\n",
      "[CV 1/3] END svm__C=1, svm__gamma=0.001, svm__kernel=rbf;, score=0.471 total time=   0.3s\n",
      "[CV 2/3] END svm__C=1, svm__gamma=0.001, svm__kernel=rbf;, score=0.471 total time=   0.3s\n",
      "[CV 3/3] END svm__C=1, svm__gamma=0.001, svm__kernel=rbf;, score=0.471 total time=   0.4s\n",
      "[CV 1/3] END svm__C=1, svm__gamma=0.001, svm__kernel=sigmoid;, score=0.471 total time=   0.1s\n",
      "[CV 2/3] END svm__C=1, svm__gamma=0.001, svm__kernel=sigmoid;, score=0.471 total time=   0.2s\n",
      "[CV 3/3] END svm__C=1, svm__gamma=0.001, svm__kernel=sigmoid;, score=0.471 total time=   0.2s\n",
      "[CV 1/3] END svm__C=10, svm__gamma=1, svm__kernel=poly;, score=0.533 total time=   0.6s\n",
      "[CV 2/3] END svm__C=10, svm__gamma=1, svm__kernel=poly;, score=0.515 total time=   0.6s\n",
      "[CV 3/3] END svm__C=10, svm__gamma=1, svm__kernel=poly;, score=0.544 total time=   0.7s\n",
      "[CV 1/3] END svm__C=10, svm__gamma=1, svm__kernel=rbf;, score=0.490 total time=   1.1s\n",
      "[CV 2/3] END svm__C=10, svm__gamma=1, svm__kernel=rbf;, score=0.518 total time=   1.0s\n",
      "[CV 3/3] END svm__C=10, svm__gamma=1, svm__kernel=rbf;, score=0.509 total time=   1.1s\n",
      "[CV 1/3] END svm__C=10, svm__gamma=1, svm__kernel=sigmoid;, score=0.507 total time=   0.2s\n",
      "[CV 2/3] END svm__C=10, svm__gamma=1, svm__kernel=sigmoid;, score=0.486 total time=   0.2s\n",
      "[CV 3/3] END svm__C=10, svm__gamma=1, svm__kernel=sigmoid;, score=0.498 total time=   0.2s\n",
      "[CV 1/3] END svm__C=10, svm__gamma=0.1, svm__kernel=poly;, score=0.553 total time=   0.3s\n",
      "[CV 2/3] END svm__C=10, svm__gamma=0.1, svm__kernel=poly;, score=0.557 total time=   0.4s\n",
      "[CV 3/3] END svm__C=10, svm__gamma=0.1, svm__kernel=poly;, score=0.534 total time=   0.4s\n",
      "[CV 1/3] END svm__C=10, svm__gamma=0.1, svm__kernel=rbf;, score=0.517 total time=   0.6s\n",
      "[CV 2/3] END svm__C=10, svm__gamma=0.1, svm__kernel=rbf;, score=0.521 total time=   0.6s\n",
      "[CV 3/3] END svm__C=10, svm__gamma=0.1, svm__kernel=rbf;, score=0.520 total time=   0.6s\n",
      "[CV 1/3] END svm__C=10, svm__gamma=0.1, svm__kernel=sigmoid;, score=0.555 total time=   0.2s\n",
      "[CV 2/3] END svm__C=10, svm__gamma=0.1, svm__kernel=sigmoid;, score=0.514 total time=   0.1s\n",
      "[CV 3/3] END svm__C=10, svm__gamma=0.1, svm__kernel=sigmoid;, score=0.537 total time=   0.1s\n"
     ]
    },
    {
     "name": "stdout",
     "output_type": "stream",
     "text": [
      "[CV 1/3] END svm__C=10, svm__gamma=0.01, svm__kernel=poly;, score=0.468 total time=   0.2s\n",
      "[CV 2/3] END svm__C=10, svm__gamma=0.01, svm__kernel=poly;, score=0.469 total time=   0.2s\n",
      "[CV 3/3] END svm__C=10, svm__gamma=0.01, svm__kernel=poly;, score=0.481 total time=   0.2s\n",
      "[CV 1/3] END svm__C=10, svm__gamma=0.01, svm__kernel=rbf;, score=0.478 total time=   0.4s\n",
      "[CV 2/3] END svm__C=10, svm__gamma=0.01, svm__kernel=rbf;, score=0.499 total time=   0.5s\n",
      "[CV 3/3] END svm__C=10, svm__gamma=0.01, svm__kernel=rbf;, score=0.488 total time=   0.4s\n",
      "[CV 1/3] END svm__C=10, svm__gamma=0.01, svm__kernel=sigmoid;, score=0.512 total time=   0.3s\n",
      "[CV 2/3] END svm__C=10, svm__gamma=0.01, svm__kernel=sigmoid;, score=0.489 total time=   0.3s\n",
      "[CV 3/3] END svm__C=10, svm__gamma=0.01, svm__kernel=sigmoid;, score=0.488 total time=   0.2s\n",
      "[CV 1/3] END svm__C=10, svm__gamma=0.001, svm__kernel=poly;, score=0.471 total time=   0.1s\n",
      "[CV 2/3] END svm__C=10, svm__gamma=0.001, svm__kernel=poly;, score=0.471 total time=   0.1s\n",
      "[CV 3/3] END svm__C=10, svm__gamma=0.001, svm__kernel=poly;, score=0.471 total time=   0.1s\n",
      "[CV 1/3] END svm__C=10, svm__gamma=0.001, svm__kernel=rbf;, score=0.471 total time=   0.5s\n",
      "[CV 2/3] END svm__C=10, svm__gamma=0.001, svm__kernel=rbf;, score=0.471 total time=   0.5s\n",
      "[CV 3/3] END svm__C=10, svm__gamma=0.001, svm__kernel=rbf;, score=0.471 total time=   0.6s\n",
      "[CV 1/3] END svm__C=10, svm__gamma=0.001, svm__kernel=sigmoid;, score=0.471 total time=   0.7s\n",
      "[CV 2/3] END svm__C=10, svm__gamma=0.001, svm__kernel=sigmoid;, score=0.471 total time=   0.5s\n",
      "[CV 3/3] END svm__C=10, svm__gamma=0.001, svm__kernel=sigmoid;, score=0.471 total time=   0.5s\n",
      "[CV 1/3] END svm__C=100, svm__gamma=1, svm__kernel=poly;, score=0.533 total time=   0.6s\n",
      "[CV 2/3] END svm__C=100, svm__gamma=1, svm__kernel=poly;, score=0.515 total time=   0.6s\n",
      "[CV 3/3] END svm__C=100, svm__gamma=1, svm__kernel=poly;, score=0.544 total time=   0.7s\n",
      "[CV 1/3] END svm__C=100, svm__gamma=1, svm__kernel=rbf;, score=0.490 total time=   1.0s\n",
      "[CV 2/3] END svm__C=100, svm__gamma=1, svm__kernel=rbf;, score=0.518 total time=   1.0s\n",
      "[CV 3/3] END svm__C=100, svm__gamma=1, svm__kernel=rbf;, score=0.509 total time=   1.1s\n",
      "[CV 1/3] END svm__C=100, svm__gamma=1, svm__kernel=sigmoid;, score=0.509 total time=   0.2s\n",
      "[CV 2/3] END svm__C=100, svm__gamma=1, svm__kernel=sigmoid;, score=0.480 total time=   0.3s\n",
      "[CV 3/3] END svm__C=100, svm__gamma=1, svm__kernel=sigmoid;, score=0.500 total time=   0.3s\n",
      "[CV 1/3] END svm__C=100, svm__gamma=0.1, svm__kernel=poly;, score=0.539 total time=   0.4s\n",
      "[CV 2/3] END svm__C=100, svm__gamma=0.1, svm__kernel=poly;, score=0.530 total time=   0.5s\n",
      "[CV 3/3] END svm__C=100, svm__gamma=0.1, svm__kernel=poly;, score=0.529 total time=   0.7s\n",
      "[CV 1/3] END svm__C=100, svm__gamma=0.1, svm__kernel=rbf;, score=0.525 total time=   0.5s\n",
      "[CV 2/3] END svm__C=100, svm__gamma=0.1, svm__kernel=rbf;, score=0.508 total time=   0.5s\n",
      "[CV 3/3] END svm__C=100, svm__gamma=0.1, svm__kernel=rbf;, score=0.508 total time=   0.5s\n",
      "[CV 1/3] END svm__C=100, svm__gamma=0.1, svm__kernel=sigmoid;, score=0.557 total time=   0.1s\n",
      "[CV 2/3] END svm__C=100, svm__gamma=0.1, svm__kernel=sigmoid;, score=0.527 total time=   0.1s\n",
      "[CV 3/3] END svm__C=100, svm__gamma=0.1, svm__kernel=sigmoid;, score=0.525 total time=   0.1s\n",
      "[CV 1/3] END svm__C=100, svm__gamma=0.01, svm__kernel=poly;, score=0.517 total time=   0.2s\n",
      "[CV 2/3] END svm__C=100, svm__gamma=0.01, svm__kernel=poly;, score=0.532 total time=   0.2s\n",
      "[CV 3/3] END svm__C=100, svm__gamma=0.01, svm__kernel=poly;, score=0.547 total time=   0.2s\n",
      "[CV 1/3] END svm__C=100, svm__gamma=0.01, svm__kernel=rbf;, score=0.523 total time=   0.6s\n",
      "[CV 2/3] END svm__C=100, svm__gamma=0.01, svm__kernel=rbf;, score=0.533 total time=   0.7s\n",
      "[CV 3/3] END svm__C=100, svm__gamma=0.01, svm__kernel=rbf;, score=0.558 total time=   0.7s\n",
      "[CV 1/3] END svm__C=100, svm__gamma=0.01, svm__kernel=sigmoid;, score=0.552 total time=   0.3s\n",
      "[CV 2/3] END svm__C=100, svm__gamma=0.01, svm__kernel=sigmoid;, score=0.515 total time=   0.2s\n",
      "[CV 3/3] END svm__C=100, svm__gamma=0.01, svm__kernel=sigmoid;, score=0.503 total time=   0.2s\n",
      "[CV 1/3] END svm__C=100, svm__gamma=0.001, svm__kernel=poly;, score=0.471 total time=   0.1s\n",
      "[CV 2/3] END svm__C=100, svm__gamma=0.001, svm__kernel=poly;, score=0.471 total time=   0.1s\n",
      "[CV 3/3] END svm__C=100, svm__gamma=0.001, svm__kernel=poly;, score=0.471 total time=   0.1s\n",
      "[CV 1/3] END svm__C=100, svm__gamma=0.001, svm__kernel=rbf;, score=0.470 total time=   0.6s\n",
      "[CV 2/3] END svm__C=100, svm__gamma=0.001, svm__kernel=rbf;, score=0.471 total time=   0.7s\n",
      "[CV 3/3] END svm__C=100, svm__gamma=0.001, svm__kernel=rbf;, score=0.471 total time=   0.7s\n",
      "[CV 1/3] END svm__C=100, svm__gamma=0.001, svm__kernel=sigmoid;, score=0.470 total time=   2.3s\n",
      "[CV 2/3] END svm__C=100, svm__gamma=0.001, svm__kernel=sigmoid;, score=0.471 total time=   1.4s\n",
      "[CV 3/3] END svm__C=100, svm__gamma=0.001, svm__kernel=sigmoid;, score=0.471 total time=   2.2s\n",
      "Wall time: 1min 14s\n"
     ]
    },
    {
     "data": {
      "text/plain": [
       "GridSearchCV(cv=3,\n",
       "             estimator=Pipeline(steps=[('scaler', StandardScaler()),\n",
       "                                       ('svm', SVC(probability=True))]),\n",
       "             param_grid={'svm__C': [0.1, 1, 10, 100],\n",
       "                         'svm__gamma': [1, 0.1, 0.01, 0.001],\n",
       "                         'svm__kernel': ['poly', 'rbf', 'sigmoid']},\n",
       "             scoring='f1_macro', verbose=3)"
      ]
     },
     "execution_count": 193,
     "metadata": {},
     "output_type": "execute_result"
    }
   ],
   "source": [
    "%%time\n",
    "# defining parameter range\n",
    "param_grid = {'svm__C': [0.1, 1, 10, 100], \n",
    "              'svm__gamma': [1, 0.1, 0.01, 0.001],\n",
    "              'svm__kernel': ['poly', 'rbf', 'sigmoid'] }\n",
    "\n",
    "#['poly', 'rbf', 'sigmoid'\n",
    "grid = GridSearchCV(svm, param_grid, scoring = \"f1_macro\", cv = 3, refit = True, verbose = 3)\n",
    "  \n",
    "# fitting the model for grid search\n",
    "grid.fit(X_train, y_train)"
   ]
  },
  {
   "cell_type": "code",
   "execution_count": 194,
   "id": "13066cb2",
   "metadata": {},
   "outputs": [
    {
     "name": "stdout",
     "output_type": "stream",
     "text": [
      "{'svm__C': 10, 'svm__gamma': 0.1, 'svm__kernel': 'poly'}\n",
      "Pipeline(steps=[('scaler', StandardScaler()),\n",
      "                ('svm', SVC(C=10, gamma=0.1, kernel='poly', probability=True))])\n"
     ]
    }
   ],
   "source": [
    "\n",
    "# print best parameter after tuning\n",
    "print(grid.best_params_)\n",
    "  \n",
    "# print how our model looks after hyper-parameter tuning\n",
    "print(grid.best_estimator_)"
   ]
  },
  {
   "cell_type": "code",
   "execution_count": 195,
   "id": "5f546c86",
   "metadata": {},
   "outputs": [
    {
     "name": "stdout",
     "output_type": "stream",
     "text": [
      "              precision    recall  f1-score   support\n",
      "\n",
      "           0    0.90248   0.90248   0.90248       564\n",
      "           1    0.21429   0.21429   0.21429        70\n",
      "\n",
      "    accuracy                        0.82650       634\n",
      "   macro avg    0.55838   0.55838   0.55838       634\n",
      "weighted avg    0.82650   0.82650   0.82650       634\n",
      "\n"
     ]
    }
   ],
   "source": [
    "grid_predictions = grid.predict(X_test)\n",
    "  \n",
    "# print classification report\n",
    "print(classification_report(y_test, grid_predictions, digits = 5))"
   ]
  },
  {
   "cell_type": "code",
   "execution_count": 220,
   "id": "425f4f5e",
   "metadata": {},
   "outputs": [
    {
     "data": {
      "text/plain": [
       "0.5583839918946302"
      ]
     },
     "execution_count": 220,
     "metadata": {},
     "output_type": "execute_result"
    }
   ],
   "source": [
    "grid.score(X_test, y_test)"
   ]
  },
  {
   "cell_type": "code",
   "execution_count": 185,
   "id": "150c7d8c",
   "metadata": {},
   "outputs": [
    {
     "data": {
      "text/html": [
       "<div>\n",
       "<style scoped>\n",
       "    .dataframe tbody tr th:only-of-type {\n",
       "        vertical-align: middle;\n",
       "    }\n",
       "\n",
       "    .dataframe tbody tr th {\n",
       "        vertical-align: top;\n",
       "    }\n",
       "\n",
       "    .dataframe thead th {\n",
       "        text-align: right;\n",
       "    }\n",
       "</style>\n",
       "<table border=\"1\" class=\"dataframe\">\n",
       "  <thead>\n",
       "    <tr style=\"text-align: right;\">\n",
       "      <th></th>\n",
       "      <th>Deal_id</th>\n",
       "      <th>Prediction</th>\n",
       "    </tr>\n",
       "  </thead>\n",
       "  <tbody>\n",
       "    <tr>\n",
       "      <th>0</th>\n",
       "      <td>72875713</td>\n",
       "      <td>0.118006</td>\n",
       "    </tr>\n",
       "    <tr>\n",
       "      <th>1</th>\n",
       "      <td>75825544</td>\n",
       "      <td>0.088163</td>\n",
       "    </tr>\n",
       "    <tr>\n",
       "      <th>2</th>\n",
       "      <td>81809181</td>\n",
       "      <td>0.103189</td>\n",
       "    </tr>\n",
       "  </tbody>\n",
       "</table>\n",
       "</div>"
      ],
      "text/plain": [
       "    Deal_id  Prediction\n",
       "0  72875713    0.118006\n",
       "1  75825544    0.088163\n",
       "2  81809181    0.103189"
      ]
     },
     "execution_count": 185,
     "metadata": {},
     "output_type": "execute_result"
    }
   ],
   "source": [
    "res_svc = pd.DataFrame({'Deal_id': df_t['Deal_id'],'Prediction': grid.predict_proba(X_t)[:,1]})#0.497\n",
    "res_svc[:3]"
   ]
  },
  {
   "cell_type": "markdown",
   "id": "416fa046",
   "metadata": {},
   "source": [
    "#### Посчитанный системой ROC_AUC: 0.552"
   ]
  },
  {
   "cell_type": "code",
   "execution_count": 181,
   "id": "65ad7a96",
   "metadata": {},
   "outputs": [],
   "source": [
    "res_svc.to_csv('prediction_svc.csv', index = False)"
   ]
  },
  {
   "cell_type": "markdown",
   "id": "4977e3d5",
   "metadata": {},
   "source": [
    "Вывод:Видим, что RandomForest() с параметрами по умполчанию показывает наилучшее качество на валидационной выборке: 0.701"
   ]
  },
  {
   "cell_type": "code",
   "execution_count": null,
   "id": "49b76a8c",
   "metadata": {},
   "outputs": [],
   "source": []
  }
 ],
 "metadata": {
  "kernelspec": {
   "display_name": "Python 3 (ipykernel)",
   "language": "python",
   "name": "python3"
  },
  "language_info": {
   "codemirror_mode": {
    "name": "ipython",
    "version": 3
   },
   "file_extension": ".py",
   "mimetype": "text/x-python",
   "name": "python",
   "nbconvert_exporter": "python",
   "pygments_lexer": "ipython3",
   "version": "3.9.0"
  }
 },
 "nbformat": 4,
 "nbformat_minor": 5
}
